{
 "cells": [
  {
   "cell_type": "code",
   "execution_count": 2,
   "metadata": {},
   "outputs": [],
   "source": [
    "import csv\n",
    "import numpy as np\n",
    "from datetime import datetime\n",
    "import datetime\n",
    "import pandas as pd\n",
    "import pandas_datareader.data as web\n",
    "from pandas import Series, DataFrame\n",
    "import matplotlib.pyplot as plt"
   ]
  },
  {
   "cell_type": "code",
   "execution_count": 3,
   "metadata": {},
   "outputs": [],
   "source": [
    "# Import live data from Yahoo Finance\n",
    "\n",
    "start_date = datetime.datetime(2012, 1, 1)\n",
    "end_date = datetime.datetime(2019, 11, 19)\n",
    "\n",
    "stock_data_FACEBOOK = web.DataReader(\"FB\", 'yahoo', start_date, end_date)\n",
    "stock_data_GOOGLE = web.DataReader(\"GOOG\", 'yahoo', start_date, end_date)\n",
    "stock_data_FACEBOOK.reset_index(inplace = True)\n",
    "stock_data_GOOGLE.reset_index(inplace = True)"
   ]
  },
  {
   "cell_type": "code",
   "execution_count": 4,
   "metadata": {},
   "outputs": [
    {
     "data": {
      "text/html": [
       "<div>\n",
       "<style scoped>\n",
       "    .dataframe tbody tr th:only-of-type {\n",
       "        vertical-align: middle;\n",
       "    }\n",
       "\n",
       "    .dataframe tbody tr th {\n",
       "        vertical-align: top;\n",
       "    }\n",
       "\n",
       "    .dataframe thead th {\n",
       "        text-align: right;\n",
       "    }\n",
       "</style>\n",
       "<table border=\"1\" class=\"dataframe\">\n",
       "  <thead>\n",
       "    <tr style=\"text-align: right;\">\n",
       "      <th></th>\n",
       "      <th>Date</th>\n",
       "      <th>High</th>\n",
       "      <th>Low</th>\n",
       "      <th>Open</th>\n",
       "      <th>Close</th>\n",
       "      <th>Volume</th>\n",
       "      <th>Adj Close</th>\n",
       "    </tr>\n",
       "  </thead>\n",
       "  <tbody>\n",
       "    <tr>\n",
       "      <td>1884</td>\n",
       "      <td>2019-11-13</td>\n",
       "      <td>195.699997</td>\n",
       "      <td>192.740005</td>\n",
       "      <td>194.699997</td>\n",
       "      <td>193.190002</td>\n",
       "      <td>10860700</td>\n",
       "      <td>193.190002</td>\n",
       "    </tr>\n",
       "    <tr>\n",
       "      <td>1885</td>\n",
       "      <td>2019-11-14</td>\n",
       "      <td>194.029999</td>\n",
       "      <td>191.449997</td>\n",
       "      <td>192.929993</td>\n",
       "      <td>193.149994</td>\n",
       "      <td>9040500</td>\n",
       "      <td>193.149994</td>\n",
       "    </tr>\n",
       "    <tr>\n",
       "      <td>1886</td>\n",
       "      <td>2019-11-15</td>\n",
       "      <td>195.300003</td>\n",
       "      <td>193.380005</td>\n",
       "      <td>194.259995</td>\n",
       "      <td>195.100006</td>\n",
       "      <td>11524300</td>\n",
       "      <td>195.100006</td>\n",
       "    </tr>\n",
       "    <tr>\n",
       "      <td>1887</td>\n",
       "      <td>2019-11-18</td>\n",
       "      <td>198.630005</td>\n",
       "      <td>193.050003</td>\n",
       "      <td>194.559998</td>\n",
       "      <td>197.399994</td>\n",
       "      <td>16167200</td>\n",
       "      <td>197.399994</td>\n",
       "    </tr>\n",
       "    <tr>\n",
       "      <td>1888</td>\n",
       "      <td>2019-11-19</td>\n",
       "      <td>200.000000</td>\n",
       "      <td>196.860001</td>\n",
       "      <td>197.399994</td>\n",
       "      <td>199.320007</td>\n",
       "      <td>19056800</td>\n",
       "      <td>199.320007</td>\n",
       "    </tr>\n",
       "  </tbody>\n",
       "</table>\n",
       "</div>"
      ],
      "text/plain": [
       "           Date        High         Low        Open       Close    Volume  \\\n",
       "1884 2019-11-13  195.699997  192.740005  194.699997  193.190002  10860700   \n",
       "1885 2019-11-14  194.029999  191.449997  192.929993  193.149994   9040500   \n",
       "1886 2019-11-15  195.300003  193.380005  194.259995  195.100006  11524300   \n",
       "1887 2019-11-18  198.630005  193.050003  194.559998  197.399994  16167200   \n",
       "1888 2019-11-19  200.000000  196.860001  197.399994  199.320007  19056800   \n",
       "\n",
       "       Adj Close  \n",
       "1884  193.190002  \n",
       "1885  193.149994  \n",
       "1886  195.100006  \n",
       "1887  197.399994  \n",
       "1888  199.320007  "
      ]
     },
     "execution_count": 4,
     "metadata": {},
     "output_type": "execute_result"
    }
   ],
   "source": [
    "stock_data_FACEBOOK.tail()"
   ]
  },
  {
   "cell_type": "code",
   "execution_count": null,
   "metadata": {},
   "outputs": [],
   "source": [
    "stock_data_FACEBOOK.head()"
   ]
  },
  {
   "cell_type": "code",
   "execution_count": 5,
   "metadata": {},
   "outputs": [
    {
     "data": {
      "text/html": [
       "<div>\n",
       "<style scoped>\n",
       "    .dataframe tbody tr th:only-of-type {\n",
       "        vertical-align: middle;\n",
       "    }\n",
       "\n",
       "    .dataframe tbody tr th {\n",
       "        vertical-align: top;\n",
       "    }\n",
       "\n",
       "    .dataframe thead th {\n",
       "        text-align: right;\n",
       "    }\n",
       "</style>\n",
       "<table border=\"1\" class=\"dataframe\">\n",
       "  <thead>\n",
       "    <tr style=\"text-align: right;\">\n",
       "      <th></th>\n",
       "      <th>Date</th>\n",
       "      <th>High</th>\n",
       "      <th>Low</th>\n",
       "      <th>Open</th>\n",
       "      <th>Close</th>\n",
       "      <th>Volume</th>\n",
       "      <th>Adj Close</th>\n",
       "    </tr>\n",
       "  </thead>\n",
       "  <tbody>\n",
       "    <tr>\n",
       "      <td>1979</td>\n",
       "      <td>2019-11-13</td>\n",
       "      <td>1304.300049</td>\n",
       "      <td>1293.510010</td>\n",
       "      <td>1294.069946</td>\n",
       "      <td>1298.000000</td>\n",
       "      <td>826700.0</td>\n",
       "      <td>1298.000000</td>\n",
       "    </tr>\n",
       "    <tr>\n",
       "      <td>1980</td>\n",
       "      <td>2019-11-14</td>\n",
       "      <td>1317.000000</td>\n",
       "      <td>1295.650024</td>\n",
       "      <td>1297.500000</td>\n",
       "      <td>1311.459961</td>\n",
       "      <td>1193500.0</td>\n",
       "      <td>1311.459961</td>\n",
       "    </tr>\n",
       "    <tr>\n",
       "      <td>1981</td>\n",
       "      <td>2019-11-15</td>\n",
       "      <td>1334.880005</td>\n",
       "      <td>1314.280029</td>\n",
       "      <td>1318.939941</td>\n",
       "      <td>1334.869995</td>\n",
       "      <td>1782600.0</td>\n",
       "      <td>1334.869995</td>\n",
       "    </tr>\n",
       "    <tr>\n",
       "      <td>1982</td>\n",
       "      <td>2019-11-18</td>\n",
       "      <td>1335.529053</td>\n",
       "      <td>1317.500000</td>\n",
       "      <td>1332.219971</td>\n",
       "      <td>1320.699951</td>\n",
       "      <td>1487400.0</td>\n",
       "      <td>1320.699951</td>\n",
       "    </tr>\n",
       "    <tr>\n",
       "      <td>1983</td>\n",
       "      <td>2019-11-19</td>\n",
       "      <td>1327.699951</td>\n",
       "      <td>1312.800049</td>\n",
       "      <td>1327.699951</td>\n",
       "      <td>1315.459961</td>\n",
       "      <td>1269200.0</td>\n",
       "      <td>1315.459961</td>\n",
       "    </tr>\n",
       "  </tbody>\n",
       "</table>\n",
       "</div>"
      ],
      "text/plain": [
       "           Date         High          Low         Open        Close  \\\n",
       "1979 2019-11-13  1304.300049  1293.510010  1294.069946  1298.000000   \n",
       "1980 2019-11-14  1317.000000  1295.650024  1297.500000  1311.459961   \n",
       "1981 2019-11-15  1334.880005  1314.280029  1318.939941  1334.869995   \n",
       "1982 2019-11-18  1335.529053  1317.500000  1332.219971  1320.699951   \n",
       "1983 2019-11-19  1327.699951  1312.800049  1327.699951  1315.459961   \n",
       "\n",
       "         Volume    Adj Close  \n",
       "1979   826700.0  1298.000000  \n",
       "1980  1193500.0  1311.459961  \n",
       "1981  1782600.0  1334.869995  \n",
       "1982  1487400.0  1320.699951  \n",
       "1983  1269200.0  1315.459961  "
      ]
     },
     "execution_count": 5,
     "metadata": {},
     "output_type": "execute_result"
    }
   ],
   "source": [
    "stock_data_GOOGLE.tail()"
   ]
  },
  {
   "cell_type": "code",
   "execution_count": null,
   "metadata": {},
   "outputs": [],
   "source": [
    "stock_data_GOOGLE.head()"
   ]
  },
  {
   "cell_type": "code",
   "execution_count": null,
   "metadata": {},
   "outputs": [],
   "source": [
    "# To round the decimals to two decimals\n",
    "stock_data_FACEBOOK = stock_data_FACEBOOK.round(2)"
   ]
  },
  {
   "cell_type": "code",
   "execution_count": null,
   "metadata": {},
   "outputs": [],
   "source": [
    "# To round the decimals to two decimals\n",
    "stock_data_GOOGLE = stock_data_GOOGLE.round(2)"
   ]
  },
  {
   "cell_type": "code",
   "execution_count": null,
   "metadata": {},
   "outputs": [],
   "source": [
    "stock_data_FACEBOOK.tail()"
   ]
  },
  {
   "cell_type": "code",
   "execution_count": null,
   "metadata": {},
   "outputs": [],
   "source": [
    "stock_data_GOOGLE.tail()"
   ]
  },
  {
   "cell_type": "code",
   "execution_count": null,
   "metadata": {},
   "outputs": [],
   "source": [
    "# Drop the 'High', 'Low', 'Open' and \"Adj.Close\" column\n",
    "stock_data_GOOGLE.drop(['Adj Close', 'High', 'Low', 'Open'], axis=1, inplace=True)\n",
    "stock_data_FACEBOOK.drop(['Adj Close', 'High', 'Low', 'Open'], axis=1, inplace=True)"
   ]
  },
  {
   "cell_type": "code",
   "execution_count": null,
   "metadata": {},
   "outputs": [],
   "source": [
    "stock_data_FACEBOOK.tail()"
   ]
  },
  {
   "cell_type": "code",
   "execution_count": null,
   "metadata": {},
   "outputs": [],
   "source": [
    "stock_data_GOOGLE.tail()"
   ]
  },
  {
   "cell_type": "code",
   "execution_count": null,
   "metadata": {},
   "outputs": [],
   "source": [
    "# Add a column to show the previous day closing - FACEBOOK  \n",
    "stock_data_FACEBOOK['Pre_Day_Cls'] = stock_data_FACEBOOK['Close'].shift(1)"
   ]
  },
  {
   "cell_type": "code",
   "execution_count": null,
   "metadata": {},
   "outputs": [],
   "source": [
    "# Add a column to show the previous day closing - GOOGLE  \n",
    "stock_data_GOOGLE['Pre_Day_Cls'] = stock_data_GOOGLE['Close'].shift(1)"
   ]
  },
  {
   "cell_type": "code",
   "execution_count": null,
   "metadata": {},
   "outputs": [],
   "source": [
    "# Show the difference between the day on new column - FACEBOOK\n",
    "stock_data_FACEBOOK['Dif_Btw_Day'] = stock_data_FACEBOOK['Close'] - stock_data_FACEBOOK['Pre_Day_Cls']"
   ]
  },
  {
   "cell_type": "code",
   "execution_count": null,
   "metadata": {},
   "outputs": [],
   "source": [
    "# Show the difference between the day on new column - GOOGLE\n",
    "stock_data_GOOGLE['Dif_Btw_Day'] = stock_data_GOOGLE['Close'] - stock_data_GOOGLE['Pre_Day_Cls']"
   ]
  },
  {
   "cell_type": "code",
   "execution_count": null,
   "metadata": {},
   "outputs": [],
   "source": [
    "stock_data_FACEBOOK.tail()"
   ]
  },
  {
   "cell_type": "code",
   "execution_count": null,
   "metadata": {},
   "outputs": [],
   "source": [
    "stock_data_GOOGLE.tail()"
   ]
  },
  {
   "cell_type": "code",
   "execution_count": null,
   "metadata": {},
   "outputs": [],
   "source": [
    "# Re-Arrange the columns - Facebook\n",
    "stock_data_FACEBOOK = stock_data_FACEBOOK[['Date','Close', 'Pre_Day_Cls', 'Dif_Btw_Day', 'Volume']]\n",
    "stock_data_FACEBOOK.tail()"
   ]
  },
  {
   "cell_type": "code",
   "execution_count": null,
   "metadata": {},
   "outputs": [],
   "source": [
    "# Re-Arrange the columns - Google\n",
    "stock_data_GOOGLE = stock_data_GOOGLE[['Date','Close', 'Pre_Day_Cls', 'Dif_Btw_Day', 'Volume']]\n",
    "stock_data_GOOGLE.tail()"
   ]
  },
  {
   "cell_type": "code",
   "execution_count": null,
   "metadata": {},
   "outputs": [],
   "source": [
    "stock_data_GOOGLE.head()"
   ]
  },
  {
   "cell_type": "code",
   "execution_count": null,
   "metadata": {},
   "outputs": [],
   "source": [
    "stock_data_FACEBOOK.head()"
   ]
  },
  {
   "cell_type": "code",
   "execution_count": null,
   "metadata": {},
   "outputs": [],
   "source": [
    "# Add a Column to show the % change between the days - FACEBOOK\n",
    "stock_data_FACEBOOK['Per_Change'] = (stock_data_FACEBOOK['Dif_Btw_Day'] / stock_data_FACEBOOK['Pre_Day_Cls'])*100"
   ]
  },
  {
   "cell_type": "code",
   "execution_count": null,
   "metadata": {},
   "outputs": [],
   "source": [
    "# Add a Column to show the % change between the days - GOOGLE\n",
    "stock_data_GOOGLE['Per_Change'] = (stock_data_GOOGLE['Dif_Btw_Day'] / stock_data_GOOGLE['Pre_Day_Cls'])*100"
   ]
  },
  {
   "cell_type": "code",
   "execution_count": null,
   "metadata": {},
   "outputs": [],
   "source": [
    "stock_data_FACEBOOK.head()"
   ]
  },
  {
   "cell_type": "code",
   "execution_count": null,
   "metadata": {},
   "outputs": [],
   "source": [
    "stock_data_GOOGLE.head()"
   ]
  },
  {
   "cell_type": "code",
   "execution_count": null,
   "metadata": {},
   "outputs": [],
   "source": [
    "# Re-Arrange the columns - Facebook\n",
    "stock_data_FACEBOOK = stock_data_FACEBOOK[['Date','Close', 'Pre_Day_Cls', 'Dif_Btw_Day', 'Per_Change', 'Volume']]\n",
    "# To round the decimals to two decimals for \"% Change\" column\n",
    "stock_data_FACEBOOK['Per_Change'] = stock_data_FACEBOOK['Per_Change'].round(2)"
   ]
  },
  {
   "cell_type": "code",
   "execution_count": null,
   "metadata": {},
   "outputs": [],
   "source": [
    "stock_data_FACEBOOK.head()"
   ]
  },
  {
   "cell_type": "code",
   "execution_count": null,
   "metadata": {},
   "outputs": [],
   "source": [
    "# Re-Arrange the columns - Google\n",
    "stock_data_GOOGLE = stock_data_GOOGLE[['Date','Close', 'Pre_Day_Cls', 'Dif_Btw_Day', 'Per_Change', 'Volume']]\n",
    "# To round the decimals to two decimals for \"% Change\" column\n",
    "stock_data_GOOGLE['Per_Change'] = stock_data_GOOGLE['Per_Change'].round(2)"
   ]
  },
  {
   "cell_type": "code",
   "execution_count": null,
   "metadata": {},
   "outputs": [],
   "source": [
    "# Drop the empty or null value cells for both Data Frames\n",
    "stock_data_FACEBOOK.dropna(axis=0, how='any', thresh=None, subset=None, inplace=True)"
   ]
  },
  {
   "cell_type": "code",
   "execution_count": null,
   "metadata": {},
   "outputs": [],
   "source": [
    "stock_data_GOOGLE.dropna(axis=0, how='any', thresh=None, subset=None, inplace=True)"
   ]
  },
  {
   "cell_type": "code",
   "execution_count": null,
   "metadata": {},
   "outputs": [],
   "source": [
    "stock_data_FACEBOOK.tail()"
   ]
  },
  {
   "cell_type": "code",
   "execution_count": null,
   "metadata": {},
   "outputs": [],
   "source": [
    "stock_data_GOOGLE.tail()"
   ]
  },
  {
   "cell_type": "code",
   "execution_count": null,
   "metadata": {},
   "outputs": [],
   "source": [
    "# Export dataframe to CSV file - Facebook\n",
    "stock_data_FACEBOOK.to_csv(r'C:\\Users\\M2N2\\Documents\\codingtemple-fall\\data_analysis_final_project\\data_files\\FACEBOOK_data.csv')"
   ]
  },
  {
   "cell_type": "code",
   "execution_count": null,
   "metadata": {},
   "outputs": [],
   "source": [
    "# Export dataframe to CSV file - Google\n",
    "stock_data_GOOGLE.to_csv(r'C:\\Users\\M2N2\\Documents\\codingtemple-fall\\data_analysis_final_project\\data_files\\GOOGLE_data.csv')"
   ]
  },
  {
   "cell_type": "code",
   "execution_count": null,
   "metadata": {},
   "outputs": [],
   "source": [
    "stock_data_FACEBOOK.describe()"
   ]
  },
  {
   "cell_type": "code",
   "execution_count": null,
   "metadata": {},
   "outputs": [],
   "source": [
    "stock_data_GOOGLE.describe()"
   ]
  },
  {
   "cell_type": "code",
   "execution_count": null,
   "metadata": {},
   "outputs": [],
   "source": [
    "#Get top 5 \"Per_Change\" values - Facebook\n",
    "highest_per_change_FACEBOOK = stock_data_FACEBOOK.nlargest(5,[\"Per_Change\"]).reset_index()['Per_Change']\n",
    "highest_per_change_FACEBOOK"
   ]
  },
  {
   "cell_type": "code",
   "execution_count": null,
   "metadata": {},
   "outputs": [],
   "source": [
    "#Get top 5 \"Per_Change\" values - Google\n",
    "highest_per_change_GOOGLE = stock_data_GOOGLE.nlargest(5,[\"Per_Change\"]).reset_index()['Per_Change']\n",
    "highest_per_change_GOOGLE"
   ]
  },
  {
   "cell_type": "code",
   "execution_count": null,
   "metadata": {},
   "outputs": [],
   "source": [
    "#Get bottom 5 \"Per_Change\" values - Facebook\n",
    "lowest_per_change_FACEBOOK = stock_data_FACEBOOK.nsmallest(5,[\"Per_Change\"]).reset_index()['Per_Change']\n",
    "lowest_per_change_FACEBOOK"
   ]
  },
  {
   "cell_type": "code",
   "execution_count": null,
   "metadata": {},
   "outputs": [],
   "source": [
    "#Get bottom 5 \"Per_Change\" values - Google\n",
    "lowest_per_change_GOOGLE = stock_data_GOOGLE.nsmallest(5,[\"Per_Change\"]).reset_index()['Per_Change']\n",
    "lowest_per_change_GOOGLE"
   ]
  },
  {
   "cell_type": "code",
   "execution_count": null,
   "metadata": {},
   "outputs": [],
   "source": [
    "# import matplotlib.pyplot as plt\n",
    "\n",
    "# # Create Histogram to show the top 5 % change comparision for both stocks\n",
    "# fig, ax = plt.subplots(figsize = (16,9))\n",
    "\n",
    "# plt.hist(highest_per_change_GOOGLE,bins = 5, label = 'Top 5 % Change', color = 'g', alpha = 0.5)\n",
    "# plt.xticks(fontsize = 30)\n",
    "# plt.yticks(fontsize = 30)\n",
    "# plt.xlabel('% Change', fontname = 'Times New Roman', fontsize = 35)\n",
    "# plt.ylabel('Frequency', fontname = 'Times New Roman', fontsize = 35)\n",
    "# plt.legend(loc = 'upper left', fontsize = 30)\n",
    "\n",
    "# plt.show()"
   ]
  },
  {
   "cell_type": "code",
   "execution_count": null,
   "metadata": {},
   "outputs": [],
   "source": [
    "# Plot Top5 \"Per_Change\" - Facebook\n",
    "y_pos = np.arange(len(list(highest_per_change_FACEBOOK)))\n",
    "plt.bar(y_pos,highest_per_change_FACEBOOK, align= 'center', alpha=0.75, color = 'g')\n",
    "plt.xticks(y_pos,highest_per_change_FACEBOOK)\n",
    "plt.ylabel('Percentage Change')\n",
    "plt.title('Facebook Percentage Change Top 5')\n",
    "\n",
    "plt.show()"
   ]
  },
  {
   "cell_type": "code",
   "execution_count": null,
   "metadata": {},
   "outputs": [],
   "source": [
    "# Plot Top5 \"Per_Change\" - Google\n",
    "y_pos = np.arange(len(list(highest_per_change_GOOGLE)))\n",
    "plt.bar(y_pos,highest_per_change_GOOGLE, align= 'center', alpha=0.75, color = 'blue' )\n",
    "plt.xticks(y_pos,highest_per_change_GOOGLE)\n",
    "plt.ylabel('Percentage Change')\n",
    "plt.title('Google Percentage Change Top 5')\n",
    "\n",
    "plt.show()"
   ]
  },
  {
   "cell_type": "code",
   "execution_count": null,
   "metadata": {},
   "outputs": [],
   "source": [
    "# Plot lowest5 \"Per_Change\" - Facebook\n",
    "y_pos = np.arange(len(list(lowest_per_change_FACEBOOK)))\n",
    "plt.bar(y_pos,lowest_per_change_FACEBOOK, align= 'center', alpha=0.75, color = 'orange')\n",
    "plt.xticks(y_pos,lowest_per_change_FACEBOOK)\n",
    "plt.ylabel('Percentage Change')\n",
    "plt.title('Facebook Percentage Change Bottom 5')\n",
    "\n",
    "plt.show()"
   ]
  },
  {
   "cell_type": "code",
   "execution_count": null,
   "metadata": {},
   "outputs": [],
   "source": [
    "# Plot lowest5 \"Per_Change\" - Google\n",
    "y_pos = np.arange(len(list(lowest_per_change_GOOGLE)))\n",
    "plt.bar(y_pos,lowest_per_change_GOOGLE, align= 'center', alpha=0.75, color = 'pink')\n",
    "plt.xticks(y_pos,lowest_per_change_GOOGLE)\n",
    "plt.ylabel('Percentage Change')\n",
    "plt.title('Google Percentage Change Bottom 5')\n",
    "\n",
    "plt.show()"
   ]
  },
  {
   "cell_type": "code",
   "execution_count": null,
   "metadata": {},
   "outputs": [],
   "source": [
    "# facebook_plot = plt.subplot(2,1,1)\n",
    "# plt.plot([1,2,3,4,5],highest_per_change_FACEBOOK, 'ro-.', label = \"Top 5 % Change\")\n",
    "# facebook_plot.set_xlim([0,6])\n",
    "# facebook_plot.set_ylim([0,30])\n",
    "\n",
    "# plt.ylabel('Top 5 Change (Percentage)')\n",
    "# plt.xlabel('Count')\n",
    "# plt.legend()\n",
    "\n",
    "# google_plot = plt.subplot(2,1,2) \n",
    "# plt.plot([1,2,3,4,5], highest_per_change_GOOGLE, 'gx-', label = \"Top 5 % Change\")\n",
    "# google_plot.set_xlim([0,6])\n",
    "# google_plot.set_ylim([0,30])\n",
    "\n",
    "# plt.ylabel('Top 5 Change (Percentage)')\n",
    "# plt.xlabel('Count')\n",
    "# plt.legend()\n",
    "\n",
    "# plt.show()"
   ]
  },
  {
   "cell_type": "code",
   "execution_count": null,
   "metadata": {
    "scrolled": true
   },
   "outputs": [],
   "source": [
    "# Get the average close for each year - Facebook 2012\n",
    "start_year = 2012\n",
    "end_year = 2019\n",
    "closing_means = []\n",
    "for i in range(start_year, end_year+1):\n",
    "    facebook = pd.to_datetime(stock_data_FACEBOOK['Date'])\n",
    "    start_date = str(i) + '-1-1'\n",
    "    end_date = str(i) +'-12-31'\n",
    "    bool_mask = (stock_data_FACEBOOK['Date'] > start_date) & (stock_data_FACEBOOK['Date'] <= end_date)\n",
    "    date_diff = stock_data_FACEBOOK[bool_mask]\n",
    "    closing_means.append(date_diff['Close'].mean())\n",
    "closing_means"
   ]
  },
  {
   "cell_type": "code",
   "execution_count": null,
   "metadata": {},
   "outputs": [],
   "source": [
    "bool_mask1"
   ]
  },
  {
   "cell_type": "code",
   "execution_count": null,
   "metadata": {},
   "outputs": [],
   "source": [
    "# Get the average close for each year - Facebook 2013\n",
    "\n",
    "facebook_2013 = pd.to_datetime(stock_data_FACEBOOK['Date'])\n",
    "facebook_2013\n",
    "start_date_2013 = '2013-1-1'\n",
    "end_date_2013 = '2013-12-31'\n",
    "\n",
    "bool_mask2 = (stock_data_FACEBOOK['Date'] > start_date_2013) & (stock_data_FACEBOOK['Date'] <= end_date_2013)\n",
    "\n",
    "date_diff2 = stock_data_FACEBOOK[bool_mask2]\n",
    "date_diff2['Close'].mean()"
   ]
  },
  {
   "cell_type": "code",
   "execution_count": null,
   "metadata": {},
   "outputs": [],
   "source": [
    "# Get the average close for each year - Facebook 2014\n",
    "\n",
    "facebook_2014 = pd.to_datetime(stock_data_FACEBOOK['Date'])\n",
    "facebook_2014\n",
    "start_date_2014 = '2014-1-1'\n",
    "end_date_2014 = '2014-12-31'\n",
    "\n",
    "bool_mask3 = (stock_data_FACEBOOK['Date'] > start_date_2014) & (stock_data_FACEBOOK['Date'] <= end_date_2014)\n",
    "\n",
    "date_diff3 = stock_data_FACEBOOK[bool_mask3]\n",
    "date_diff3['Close'].mean()"
   ]
  },
  {
   "cell_type": "code",
   "execution_count": null,
   "metadata": {},
   "outputs": [],
   "source": [
    "# Get the average close for each year - Facebook 2015\n",
    "\n",
    "facebook_2015 = pd.to_datetime(stock_data_FACEBOOK['Date'])\n",
    "facebook_2015\n",
    "start_date_2015 = '2015-1-1'\n",
    "end_date_2015 = '2015-12-31'\n",
    "\n",
    "bool_mask4 = (stock_data_FACEBOOK['Date'] > start_date_2015) & (stock_data_FACEBOOK['Date'] <= end_date_2015)\n",
    "\n",
    "date_diff4 = stock_data_FACEBOOK[bool_mask4]\n",
    "date_diff4['Close'].mean()"
   ]
  },
  {
   "cell_type": "code",
   "execution_count": null,
   "metadata": {},
   "outputs": [],
   "source": [
    "# Get the average close for each year - Facebook 2016\n",
    "\n",
    "facebook_2016 = pd.to_datetime(stock_data_FACEBOOK['Date'])\n",
    "facebook_2016\n",
    "start_date_2016 = '2016-1-1'\n",
    "end_date_2016 = '2016-12-31'\n",
    "\n",
    "bool_mask5 = (stock_data_FACEBOOK['Date'] > start_date_2016) & (stock_data_FACEBOOK['Date'] <= end_date_2016)\n",
    "\n",
    "date_diff5 = stock_data_FACEBOOK[bool_mask5]\n",
    "date_diff5['Close'].mean()"
   ]
  },
  {
   "cell_type": "code",
   "execution_count": null,
   "metadata": {},
   "outputs": [],
   "source": [
    "# Get the average close for each year - Facebook 2017\n",
    "\n",
    "facebook_2017 = pd.to_datetime(stock_data_FACEBOOK['Date'])\n",
    "facebook_2017\n",
    "start_date_2017 = '2017-1-1'\n",
    "end_date_2017 = '2017-12-31'\n",
    "\n",
    "bool_mask6 = (stock_data_FACEBOOK['Date'] > start_date_2017) & (stock_data_FACEBOOK['Date'] <= end_date_2017)\n",
    "\n",
    "date_diff6 = stock_data_FACEBOOK[bool_mask6]\n",
    "date_diff6['Close'].mean()"
   ]
  },
  {
   "cell_type": "code",
   "execution_count": null,
   "metadata": {},
   "outputs": [],
   "source": [
    "# Get the average close for each year - Facebook 2018\n",
    "\n",
    "facebook_2018 = pd.to_datetime(stock_data_FACEBOOK['Date'])\n",
    "facebook_2018\n",
    "start_date_2018 = '2018-1-1'\n",
    "end_date_2018 = '2018-12-31'\n",
    "\n",
    "bool_mask7 = (stock_data_FACEBOOK['Date'] > start_date_2018) & (stock_data_FACEBOOK['Date'] <= end_date_2018)\n",
    "\n",
    "date_diff7 = stock_data_FACEBOOK[bool_mask7]\n",
    "date_diff7['Close'].mean()"
   ]
  },
  {
   "cell_type": "code",
   "execution_count": null,
   "metadata": {},
   "outputs": [],
   "source": [
    "# Get the average close for each year - Facebook 2019\n",
    "\n",
    "facebook_2019 = pd.to_datetime(stock_data_FACEBOOK['Date'])\n",
    "facebook_2019\n",
    "start_date_2019 = '2019-1-1'\n",
    "end_date_2019 = '2019-12-31'\n",
    "\n",
    "bool_mask8 = (stock_data_FACEBOOK['Date'] > start_date_2019) & (stock_data_FACEBOOK['Date'] <= end_date_2019)\n",
    "\n",
    "date_diff8 = stock_data_FACEBOOK[bool_mask8]\n",
    "date_diff8['Close'].mean()"
   ]
  },
  {
   "cell_type": "code",
   "execution_count": null,
   "metadata": {},
   "outputs": [],
   "source": [
    "# Get the average close for each year - Google 2012\n",
    "\n",
    "google_2012 = pd.to_datetime(stock_data_GOOGLE['Date'])\n",
    "google_2012\n",
    "start_date_2012 = '2012-1-1'\n",
    "end_date_2012 = '2012-12-31'\n",
    "\n",
    "bool_mask1 = (stock_data_GOOGLE['Date'] > start_date_2012) & (stock_data_GOOGLE['Date'] <= end_date_2012)\n",
    "\n",
    "date_diff1 = stock_data_GOOGLE[bool_mask1]\n",
    "date_diff1['Close'].mean()"
   ]
  },
  {
   "cell_type": "code",
   "execution_count": null,
   "metadata": {},
   "outputs": [],
   "source": [
    "# Get the average close for each year - Google 2013\n",
    "\n",
    "google_2013 = pd.to_datetime(stock_data_GOOGLE['Date'])\n",
    "google_2013\n",
    "start_date_2013 = '2013-1-1'\n",
    "end_date_2013 = '2013-12-31'\n",
    "\n",
    "bool_mask2 = (stock_data_GOOGLE['Date'] > start_date_2013) & (stock_data_GOOGLE['Date'] <= end_date_2013)\n",
    "\n",
    "date_diff2 = stock_data_GOOGLE[bool_mask2]\n",
    "date_diff2['Close'].mean()"
   ]
  },
  {
   "cell_type": "code",
   "execution_count": null,
   "metadata": {},
   "outputs": [],
   "source": [
    "# Get the average close for each year - Google 2014\n",
    "\n",
    "google_2014 = pd.to_datetime(stock_data_GOOGLE['Date'])\n",
    "google_2014\n",
    "start_date_2014 = '2014-1-1'\n",
    "end_date_2014 = '2014-12-31'\n",
    "\n",
    "bool_mask3 = (stock_data_GOOGLE['Date'] > start_date_2014) & (stock_data_GOOGLE['Date'] <= end_date_2014)\n",
    "\n",
    "date_diff3 = stock_data_GOOGLE[bool_mask3]\n",
    "date_diff3['Close'].mean()"
   ]
  },
  {
   "cell_type": "code",
   "execution_count": null,
   "metadata": {},
   "outputs": [],
   "source": [
    "# Get the average close for each year - Google 2015\n",
    "\n",
    "google_2015 = pd.to_datetime(stock_data_GOOGLE['Date'])\n",
    "google_2015\n",
    "start_date_2015 = '2015-1-1'\n",
    "end_date_2015 = '2015-12-31'\n",
    "\n",
    "bool_mask4 = (stock_data_GOOGLE['Date'] > start_date_2015) & (stock_data_GOOGLE['Date'] <= end_date_2015)\n",
    "\n",
    "date_diff4 = stock_data_GOOGLE[bool_mask4]\n",
    "date_diff4['Close'].mean()"
   ]
  },
  {
   "cell_type": "code",
   "execution_count": null,
   "metadata": {},
   "outputs": [],
   "source": [
    "# Get the average close for each year - Google 2016\n",
    "\n",
    "google_2016 = pd.to_datetime(stock_data_GOOGLE['Date'])\n",
    "google_2016\n",
    "start_date_2016 = '2016-1-1'\n",
    "end_date_2016 = '2016-12-31'\n",
    "\n",
    "bool_mask5 = (stock_data_GOOGLE['Date'] > start_date_2016) & (stock_data_GOOGLE['Date'] <= end_date_2016)\n",
    "\n",
    "date_diff5 = stock_data_GOOGLE[bool_mask5]\n",
    "date_diff5['Close'].mean()"
   ]
  },
  {
   "cell_type": "code",
   "execution_count": null,
   "metadata": {},
   "outputs": [],
   "source": [
    "# Get the average close for each year - Google 2017\n",
    "\n",
    "google_2017 = pd.to_datetime(stock_data_GOOGLE['Date'])\n",
    "google_2017\n",
    "start_date_2017 = '2017-1-1'\n",
    "end_date_2017 = '2017-12-31'\n",
    "\n",
    "bool_mask6 = (stock_data_GOOGLE['Date'] > start_date_2017) & (stock_data_GOOGLE['Date'] <= end_date_2017)\n",
    "\n",
    "date_diff6 = stock_data_GOOGLE[bool_mask6]\n",
    "date_diff6['Close'].mean()"
   ]
  },
  {
   "cell_type": "code",
   "execution_count": null,
   "metadata": {},
   "outputs": [],
   "source": [
    "# Get the average close for each year - Google 2018\n",
    "\n",
    "google_2018 = pd.to_datetime(stock_data_GOOGLE['Date'])\n",
    "google_2018\n",
    "start_date_2018 = '2018-1-1'\n",
    "end_date_2018 = '2018-12-31'\n",
    "\n",
    "bool_mask7 = (stock_data_GOOGLE['Date'] > start_date_2018) & (stock_data_GOOGLE['Date'] <= end_date_2018)\n",
    "\n",
    "date_diff7 = stock_data_GOOGLE[bool_mask7]\n",
    "date_diff7['Close'].mean()"
   ]
  },
  {
   "cell_type": "code",
   "execution_count": null,
   "metadata": {},
   "outputs": [],
   "source": [
    "# Get the average close for each year - Google 2019\n",
    "\n",
    "google_2019 = pd.to_datetime(stock_data_GOOGLE['Date'])\n",
    "google_2019\n",
    "start_date_2019 = '2019-1-1'\n",
    "end_date_2019 = '2019-12-31'\n",
    "\n",
    "bool_mask8 = (stock_data_GOOGLE['Date'] > start_date_2019) & (stock_data_GOOGLE['Date'] <= end_date_2019)\n",
    "\n",
    "date_diff8 = stock_data_GOOGLE[bool_mask8]\n",
    "date_diff8['Close'].mean()"
   ]
  },
  {
   "cell_type": "code",
   "execution_count": null,
   "metadata": {},
   "outputs": [],
   "source": [
    "# #Get the highest \"Close\" values\n",
    "# highest_close_FACEBOOK = stock_data_FACEBOOK.nlargest(5, \"Close\")\n",
    "# highest_close_GOOGLE = stock_data_GOOGLE.nlargest(5, \"Close\")"
   ]
  },
  {
   "cell_type": "code",
   "execution_count": null,
   "metadata": {},
   "outputs": [],
   "source": [
    "# highest_close_FACEBOOK"
   ]
  },
  {
   "cell_type": "code",
   "execution_count": null,
   "metadata": {},
   "outputs": [],
   "source": [
    "# highest_close_GOOGLE"
   ]
  },
  {
   "cell_type": "code",
   "execution_count": null,
   "metadata": {},
   "outputs": [],
   "source": [
    "# #Get the highest \"Volume\" values\n",
    "# highest_volume_FACEBOOK = stock_data_FACEBOOK.nlargest(5, \"Volume\")\n",
    "# highest_volume_GOOGLE = stock_data_GOOGLE.nlargest(5, \"Volume\")"
   ]
  },
  {
   "cell_type": "code",
   "execution_count": null,
   "metadata": {},
   "outputs": [],
   "source": [
    "# highest_volume_FACEBOOK"
   ]
  },
  {
   "cell_type": "code",
   "execution_count": null,
   "metadata": {},
   "outputs": [],
   "source": [
    "# highest_volume_GOOGLE"
   ]
  },
  {
   "cell_type": "code",
   "execution_count": null,
   "metadata": {},
   "outputs": [],
   "source": [
    "# Plot Mean \"Closing\" stock value per year - Facebook\n",
    "mean_closing_FACEBOOK = [24.59,35.48,68.76,88.77,117.04,156.58,171.51,178.73]\n",
    "y_pos = np.arange(len(list(mean_closing_FACEBOOK)))\n",
    "plt.bar(y_pos,mean_closing_FACEBOOK, align= 'center', alpha=0.75, color = 'purple')\n",
    "plt.xticks(y_pos,[2012,2013,2014,2015,2016,2017,2018,2019])\n",
    "plt.ylabel('Average Close')\n",
    "plt.title('Facebook Average Stock Closing per Year')\n",
    "\n",
    "plt.show()"
   ]
  },
  {
   "cell_type": "code",
   "execution_count": null,
   "metadata": {},
   "outputs": [],
   "source": [
    "# Plot Mean \"Closing\" stock value per year - Google\n",
    "mean_closing_GOOGLE = [320.16,440.47,559.80,602.01,743.49,921.78,1113.23,1166.50]\n",
    "y_pos = np.arange(len(list(mean_closing_FACEBOOK)))\n",
    "plt.bar(y_pos,mean_closing_GOOGLE, align= 'center', alpha=0.75, color = 'gray')\n",
    "plt.xticks(y_pos,[2012,2013,2014,2015,2016,2017,2018,2019])\n",
    "plt.ylabel('Average Close')\n",
    "plt.title('Google Average Stock Closing per Year')\n",
    "\n",
    "plt.show()"
   ]
  },
  {
   "cell_type": "code",
   "execution_count": null,
   "metadata": {},
   "outputs": [],
   "source": [
    "per_icrs_FACEBOOK = [44.28,93.8,29.10,31.85,33.81,9.54,4.21]\n",
    "per_icrs_GOOGLE = [37.58,27.09,7.54,23.50,23.98,20.77,4.79]"
   ]
  },
  {
   "cell_type": "code",
   "execution_count": null,
   "metadata": {},
   "outputs": [],
   "source": [
    "# Plot Percentage Change from previous year - Facebook\n",
    "y_pos = np.arange(len(list(per_icrs_FACEBOOK)))\n",
    "plt.bar(y_pos,per_icrs_FACEBOOK, align= 'center', alpha=0.75, color = 'magenta')\n",
    "plt.xticks(y_pos,[2013,2014,2015,2016,2017,2018,2019])\n",
    "plt.ylabel('Percentage Change')\n",
    "plt.title('Facebook Percentage Change from Previous Year')\n",
    "\n",
    "plt.show()"
   ]
  },
  {
   "cell_type": "code",
   "execution_count": null,
   "metadata": {},
   "outputs": [],
   "source": [
    "# Plot Percentage Change from previous year - Facebook\n",
    "y_pos = np.arange(len(list(per_icrs_GOOGLE)))\n",
    "plt.bar(y_pos,per_icrs_GOOGLE, align= 'center', alpha=0.75, color = 'cyan')\n",
    "plt.xticks(y_pos,[2013,2014,2015,2016,2017,2018,2019])\n",
    "plt.ylabel('Percentage Change')\n",
    "plt.title('Google Percentage Change from Previous Year')\n",
    "\n",
    "plt.show()"
   ]
  },
  {
   "cell_type": "code",
   "execution_count": null,
   "metadata": {},
   "outputs": [],
   "source": []
  }
 ],
 "metadata": {
  "kernelspec": {
   "display_name": "Python 3",
   "language": "python",
   "name": "python3"
  },
  "language_info": {
   "codemirror_mode": {
    "name": "ipython",
    "version": 3
   },
   "file_extension": ".py",
   "mimetype": "text/x-python",
   "name": "python",
   "nbconvert_exporter": "python",
   "pygments_lexer": "ipython3",
   "version": "3.7.0"
  }
 },
 "nbformat": 4,
 "nbformat_minor": 2
}
